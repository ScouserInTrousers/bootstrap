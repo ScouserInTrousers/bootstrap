{
 "cells": [
  {
   "cell_type": "code",
   "execution_count": 1,
   "metadata": {
    "collapsed": true
   },
   "outputs": [],
   "source": [
    "import itertools as it\n",
    "import numpy as np\n",
    "%matplotlib inline"
   ]
  },
  {
   "cell_type": "code",
   "execution_count": 2,
   "metadata": {
    "collapsed": true
   },
   "outputs": [],
   "source": [
    "def resample(data, B):\n",
    "    \"\"\"\n",
    "    Return `B` bootstrap samples of `data` as a generator.\n",
    "    The motivation of this is that it may be desirable to\n",
    "    calculate several functionals of the bootstrapped data.\n",
    "    Args:\n",
    "        data (np.array): numpy array\n",
    "        B (int): the number of pseduo-datasets to be created\n",
    "    Returns:\n",
    "        (PyGenObject): generator of numpy arrays of size data.shape[0]\n",
    "    \"\"\"\n",
    "    to_be_sampled = data.ravel()\n",
    "    for _ in xrange(0, B):\n",
    "        yield np.random.choice(a=to_be_sampled, size=data.shape[0], replace=True)\n",
    "    \n",
    "def estimate(data_gen, estimators):\n",
    "    \"\"\"\n",
    "    For every statistic in estimators, create an\n",
    "    itertools.tee so that the samples in data_gen\n",
    "    can be consumed for each estimator. Returns a\n",
    "    dictionary of the form\n",
    "        statistic: sampling distribution of statistic\n",
    "    This can easily be passed e.g. to the pandas.DataFrame\n",
    "    constructor for visualization, etc.\n",
    "    Args:\n",
    "        data_gen (PyGenObject): generator of samples \n",
    "                                (usually np.array)\n",
    "        estimators (iterable of callables): the functions \n",
    "                                            to perform on the\n",
    "                                            samples\n",
    "    Returns:\n",
    "        (dict): keys are names of estimators; values are \n",
    "                resulting arrays of estimator(sample)\n",
    "    \"\"\"\n",
    "    # One more tee is created to ascertain # samples in data_gen\n",
    "    tees = it.tee(data_gen, len(estimators) + 1)\n",
    "    len_gen, sample_gens = tees[0], tees[1:]\n",
    "    del tees\n",
    "    num_samples = sum(1 for _ in len_gen)\n",
    "    # izip object of (callable, it.tee)\n",
    "    estimators_and_sample_gens = it.izip(estimators, sample_gens)\n",
    "    # generator of tuples of (estimator_name, estimator.__cal__(sample_gen))\n",
    "    estimators_and_distributions = ((estimator.__name__, it.imap(estimator, sample_gen))\n",
    "                                   for estimator, sample_gen in estimators_and_sample_gens)\n",
    "    return {estimator: np.fromiter(sampling_dist_element, dtype=float, count=num_samples)\n",
    "           for estimator, sampling_dist_element in estimators_and_distributions}"
   ]
  },
  {
   "cell_type": "markdown",
   "metadata": {},
   "source": [
    "# Estimate the median and mean of a synthetic dataset.\n",
    "Imagine that we have limited data for our process, say, 10 elements. This obviously\n",
    "limits our inference. Assuming that these data, $(x_1, ..., x_{10})$ are realizations of \n",
    "$X_1, ..., X_{10} \\sim F(\\theta)$, inference about $\\theta$ are clearly limited. One\n",
    "solution to this is let randomness work _for you_ by using the Bootstrap."
   ]
  },
  {
   "cell_type": "code",
   "execution_count": 3,
   "metadata": {
    "collapsed": true
   },
   "outputs": [],
   "source": [
    "# Generate our 10 x values\n",
    "observed = np.random.ranf(10)\n",
    "\n",
    "# Sample from these 10 data. This function returns\n",
    "# a generator because B usually is set to be very large;\n",
    "# as close to len(observed) to the power of len(observed),\n",
    "# the better\n",
    "bootstrap_samples_gen = resample(observed, B=100)\n",
    "\n",
    "# Yield bootstrapped sampling distributions for any iterable\n",
    "# of estimators. Here, just mean and median\n",
    "estimators_and_sampling_distns = estimate(bootstrap_samples_gen,\n",
    "                                          estimators=[np.median, np.mean])"
   ]
  },
  {
   "cell_type": "code",
   "execution_count": 4,
   "metadata": {},
   "outputs": [
    {
     "data": {
      "text/plain": [
       "{'mean': array([ 0.59244407,  0.73246056,  0.72528875,  0.62060392,  0.53282264,\n",
       "         0.56774848,  0.70790288,  0.70867651,  0.67585216,  0.67285468,\n",
       "         0.6256923 ,  0.72954076,  0.50393458,  0.6005821 ,  0.75860422,\n",
       "         0.5832028 ,  0.68034667,  0.6634139 ,  0.65463575,  0.59872113,\n",
       "         0.5270956 ,  0.42352838,  0.58868418,  0.73370331,  0.4844081 ,\n",
       "         0.56865141,  0.67245737,  0.38754867,  0.62287288,  0.66363099,\n",
       "         0.56411423,  0.67795769,  0.59639474,  0.68178246,  0.64798543,\n",
       "         0.48498391,  0.66811143,  0.56622434,  0.62007104,  0.65574374,\n",
       "         0.62626075,  0.65675566,  0.46504711,  0.61248378,  0.6977888 ,\n",
       "         0.59465203,  0.76864012,  0.50685233,  0.6082252 ,  0.59157337,\n",
       "         0.53033639,  0.65554073,  0.66234173,  0.60454344,  0.44438822,\n",
       "         0.65999495,  0.43814309,  0.58093737,  0.71760429,  0.66686542,\n",
       "         0.66398385,  0.49564003,  0.74653243,  0.59412373,  0.60943779,\n",
       "         0.70295661,  0.47657346,  0.56302519,  0.53256987,  0.49888669,\n",
       "         0.40526961,  0.56989154,  0.57236582,  0.48837432,  0.67903676,\n",
       "         0.48316535,  0.45081974,  0.70407118,  0.49181966,  0.47993072,\n",
       "         0.50596378,  0.57479335,  0.81010247,  0.73040119,  0.56842513,\n",
       "         0.66491991,  0.68650575,  0.54438814,  0.68263222,  0.48632139,\n",
       "         0.5602254 ,  0.57665096,  0.48955863,  0.53953455,  0.59860316,\n",
       "         0.73464377,  0.61997372,  0.68268098,  0.73662107,  0.50477741]),\n",
       " 'median': array([ 0.67711295,  0.80146942,  0.80087959,  0.64476768,  0.43976806,\n",
       "         0.54976158,  0.67711295,  0.80087959,  0.706651  ,  0.73899627,\n",
       "         0.82067101,  0.73899627,  0.54976158,  0.64476768,  0.80146942,\n",
       "         0.61242242,  0.80146942,  0.80146942,  0.80205925,  0.70724083,\n",
       "         0.64476768,  0.35547729,  0.67711295,  0.80146942,  0.49781608,\n",
       "         0.54976158,  0.73899627,  0.39243537,  0.706651  ,  0.67711295,\n",
       "         0.61242242,  0.80087959,  0.48710075,  0.73899627,  0.64476768,\n",
       "         0.39243537,  0.80087959,  0.54976158,  0.64476768,  0.64476768,\n",
       "         0.64476768,  0.67711295,  0.48710075,  0.64476768,  0.80087959,\n",
       "         0.59724731,  0.80146942,  0.58210685,  0.64476768,  0.58210685,\n",
       "         0.61242242,  0.80205925,  0.67711295,  0.54976158,  0.35547729,\n",
       "         0.706651  ,  0.48710075,  0.58210685,  0.80146942,  0.64476768,\n",
       "         0.80205925,  0.53477416,  0.80087959,  0.58210685,  0.64458   ,\n",
       "         0.80205925,  0.43976806,  0.54976158,  0.48710075,  0.39243537,\n",
       "         0.39243537,  0.67711295,  0.70724083,  0.48710075,  0.80087959,\n",
       "         0.46547082,  0.35547729,  0.80146942,  0.46547082,  0.48710075,\n",
       "         0.48710075,  0.48710075,  0.83928278,  0.83928278,  0.64476768,\n",
       "         0.80205925,  0.80146942,  0.54976158,  0.67711295,  0.43976806,\n",
       "         0.54976158,  0.61242242,  0.48710075,  0.54976158,  0.80146942,\n",
       "         0.80087959,  0.67711295,  0.80146942,  0.80205925,  0.53477416])}"
      ]
     },
     "execution_count": 4,
     "metadata": {},
     "output_type": "execute_result"
    }
   ],
   "source": [
    "estimators_and_sampling_distns"
   ]
  },
  {
   "cell_type": "code",
   "execution_count": 5,
   "metadata": {
    "collapsed": true
   },
   "outputs": [],
   "source": [
    "# Let's make a DataFrame and plot it\n",
    "import pandas as pd\n",
    "df = pd.DataFrame(estimators_and_sampling_distns)"
   ]
  },
  {
   "cell_type": "code",
   "execution_count": 6,
   "metadata": {},
   "outputs": [
    {
     "data": {
      "image/png": "[encoded data removed]",
      "text/plain": [
       "<matplotlib.figure.Figure at 0x107e32090>"
      ]
     },
     "metadata": {},
     "output_type": "display_data"
    }
   ],
   "source": [
    "df.hist();"
   ]
  },
  {
   "cell_type": "code",
   "execution_count": 7,
   "metadata": {
    "collapsed": true
   },
   "outputs": [],
   "source": [
    "bootstrap_hundred_thousand = resample(observed, B=100000)"
   ]
  },
  {
   "cell_type": "code",
   "execution_count": 8,
   "metadata": {
    "collapsed": true
   },
   "outputs": [],
   "source": [
    "bootstrapped_estimators = estimate(data_gen=bootstrap_hundred_thousand,\n",
    "                                   estimators=[np.median, np.mean])"
   ]
  },
  {
   "cell_type": "code",
   "execution_count": 9,
   "metadata": {},
   "outputs": [
    {
     "data": {
      "image/png": "[encoded data removed]",
      "text/plain": [
       "<matplotlib.figure.Figure at 0x108071310>"
      ]
     },
     "metadata": {},
     "output_type": "display_data"
    }
   ],
   "source": [
    "df_hundred_thousand = pd.DataFrame(bootstrapped_estimators)\n",
    "df_hundred_thousand.hist();"
   ]
  },
  {
   "cell_type": "code",
   "execution_count": 10,
   "metadata": {},
   "outputs": [
    {
     "name": "stdout",
     "output_type": "stream",
     "text": [
      "0.594521037437\n",
      "0.644767681521\n"
     ]
    }
   ],
   "source": [
    "print np.mean(observed)\n",
    "print np.median(observed)"
   ]
  },
  {
   "cell_type": "code",
   "execution_count": null,
   "metadata": {
    "collapsed": true
   },
   "outputs": [],
   "source": []
  }
 ],
 "metadata": {
  "anaconda-cloud": {},
  "kernelspec": {
   "display_name": "Python 2",
   "language": "python",
   "name": "python2"
  },
  "language_info": {
   "codemirror_mode": {
    "name": "ipython",
    "version": 2
   },
   "file_extension": ".py",
   "mimetype": "text/x-python",
   "name": "python",
   "nbconvert_exporter": "python",
   "pygments_lexer": "ipython2",
   "version": "2.7.13"
  }
 },
 "nbformat": 4,
 "nbformat_minor": 2
}
